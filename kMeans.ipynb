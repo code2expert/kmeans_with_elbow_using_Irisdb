{
  "nbformat": 4,
  "nbformat_minor": 0,
  "metadata": {
    "colab": {
      "provenance": [],
      "authorship_tag": "ABX9TyOddYl/1ntP1yt12FkO3gXW",
      "include_colab_link": true
    },
    "kernelspec": {
      "name": "python3",
      "display_name": "Python 3"
    },
    "language_info": {
      "name": "python"
    }
  },
  "cells": [
    {
      "cell_type": "markdown",
      "metadata": {
        "id": "view-in-github",
        "colab_type": "text"
      },
      "source": [
        "<a href=\"https://colab.research.google.com/github/code2expert/kmeans_with_elbow_using_Irisdb/blob/main/kMeans.ipynb\" target=\"_parent\"><img src=\"https://colab.research.google.com/assets/colab-badge.svg\" alt=\"Open In Colab\"/></a>"
      ]
    },
    {
      "cell_type": "code",
      "execution_count": null,
      "metadata": {
        "id": "R99nadUe_ZRu"
      },
      "outputs": [],
      "source": [
        "#kMeans on the iris dataset using elbow method\n",
        "import pandas as pd\n",
        "import numpy as np\n",
        "import matplotlib.pyplot as plt\n",
        "%matplotlib inline \n",
        "from sklearn.cluster import KMeans\n",
        "from sklearn import datasets\n",
        "iris = datasets.load_iris()\n",
        "\n",
        "#we are usingh\n",
        "df=pd.DataFrame(iris['data'])\n",
        "\n",
        "print(df.head())"
      ]
    },
    {
      "cell_type": "code",
      "source": [
        "#Let's see how many clusters are in the iris dataset\n",
        "iris['target']"
      ],
      "metadata": {
        "id": "evipD1Z9_wcR"
      },
      "execution_count": null,
      "outputs": []
    },
    {
      "cell_type": "code",
      "source": [
        "#From above we can see there are 3 clusters in the dataset i.e. 0,1 and 2\n",
        "#We can run kMeans for a range of clusters collecting the eucledian distance from the centroids as distortions\n",
        "#distortions here is sum of the square of the distance of each example to its nearest cluster center\n",
        "#Mathematically speaking, for points A(x1, y1) and B(x2, y2) euclidean distance is (x2-x1)^2 + (y2 -y1)^2\n",
        "#This can also be the average of the euclidean squared distance from the centroid of the respective clusters\n",
        "distortions = []\n",
        "K = range(1,10)\n",
        "for k in K:\n",
        "    kmeanModel = KMeans(n_clusters=k)\n",
        "    kmeanModel.fit(df)\n",
        "    distortions.append(kmeanModel.inertia_)"
      ],
      "metadata": {
        "id": "w9Aej1WiAGTC"
      },
      "execution_count": null,
      "outputs": []
    },
    {
      "cell_type": "code",
      "source": [
        "plt.figure(figsize=(16,8))\n",
        "plt.plot(K, distortions, 'bx-')\n",
        "plt.xlabel('k')\n",
        "plt.ylabel('Distortion')\n",
        "plt.title('The Elbow Method showing the optimal k')\n",
        "plt.show()"
      ],
      "metadata": {
        "id": "QLOMFaaSBNLV"
      },
      "execution_count": null,
      "outputs": []
    },
    {
      "cell_type": "code",
      "source": [
        "#We can observe that the “elbow” is the number 3 which is optimal for this case. Now we can run a K-Means using as n_clusters the number 3\n",
        "kmeanModel = KMeans(n_clusters=3)\n",
        "kmeanModel.fit(df)"
      ],
      "metadata": {
        "id": "HObfZvU7Bl_p"
      },
      "execution_count": null,
      "outputs": []
    },
    {
      "cell_type": "code",
      "source": [
        "#kMeans vs Actual when the number of clusters is 3\n",
        "df['k_means']=kmeanModel.predict(df)\n",
        "df['target']=iris['target']\n",
        "\n",
        "fig, axes = plt.subplots(1, 2, figsize=(16,8))\n",
        "axes[0].scatter(df[0], df[1], c=df['target'])\n",
        "axes[1].scatter(df[0], df[1], c=df['k_means'], cmap=plt.cm.Set1)\n",
        "axes[0].set_title('Actual', fontsize=18)\n",
        "axes[1].set_title('K_Means', fontsize=18)"
      ],
      "metadata": {
        "id": "7sK6RXrDCHiN"
      },
      "execution_count": null,
      "outputs": []
    }
  ]
}